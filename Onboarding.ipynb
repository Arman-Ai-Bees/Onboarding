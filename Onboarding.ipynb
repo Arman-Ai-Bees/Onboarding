{
 "cells": [
  {
   "cell_type": "markdown",
   "metadata": {},
   "source": [
    "# On Boarding"
   ]
  },
  {
   "cell_type": "code",
   "execution_count": 1,
   "metadata": {},
   "outputs": [
    {
     "name": "stdout",
     "output_type": "stream",
     "text": [
      "Requirement already satisfied: ipykernel in ./myenv/lib/python3.11/site-packages (6.29.5)\n",
      "Requirement already satisfied: ipywidgets in ./myenv/lib/python3.11/site-packages (8.1.5)\n",
      "Requirement already satisfied: comm>=0.1.1 in ./myenv/lib/python3.11/site-packages (from ipykernel) (0.2.2)\n",
      "Requirement already satisfied: debugpy>=1.6.5 in ./myenv/lib/python3.11/site-packages (from ipykernel) (1.8.10)\n",
      "Requirement already satisfied: ipython>=7.23.1 in ./myenv/lib/python3.11/site-packages (from ipykernel) (8.30.0)\n",
      "Requirement already satisfied: jupyter-client>=6.1.12 in ./myenv/lib/python3.11/site-packages (from ipykernel) (8.6.3)\n",
      "Requirement already satisfied: jupyter-core!=5.0.*,>=4.12 in ./myenv/lib/python3.11/site-packages (from ipykernel) (5.7.2)\n",
      "Requirement already satisfied: matplotlib-inline>=0.1 in ./myenv/lib/python3.11/site-packages (from ipykernel) (0.1.7)\n",
      "Requirement already satisfied: nest-asyncio in ./myenv/lib/python3.11/site-packages (from ipykernel) (1.6.0)\n",
      "Requirement already satisfied: packaging in ./myenv/lib/python3.11/site-packages (from ipykernel) (24.2)\n",
      "Requirement already satisfied: psutil in ./myenv/lib/python3.11/site-packages (from ipykernel) (6.1.0)\n",
      "Requirement already satisfied: pyzmq>=24 in ./myenv/lib/python3.11/site-packages (from ipykernel) (26.2.0)\n",
      "Requirement already satisfied: tornado>=6.1 in ./myenv/lib/python3.11/site-packages (from ipykernel) (6.4.2)\n",
      "Requirement already satisfied: traitlets>=5.4.0 in ./myenv/lib/python3.11/site-packages (from ipykernel) (5.14.3)\n",
      "Requirement already satisfied: widgetsnbextension~=4.0.12 in ./myenv/lib/python3.11/site-packages (from ipywidgets) (4.0.13)\n",
      "Requirement already satisfied: jupyterlab-widgets~=3.0.12 in ./myenv/lib/python3.11/site-packages (from ipywidgets) (3.0.13)\n",
      "Requirement already satisfied: decorator in ./myenv/lib/python3.11/site-packages (from ipython>=7.23.1->ipykernel) (5.1.1)\n",
      "Requirement already satisfied: jedi>=0.16 in ./myenv/lib/python3.11/site-packages (from ipython>=7.23.1->ipykernel) (0.19.2)\n",
      "Requirement already satisfied: pexpect>4.3 in ./myenv/lib/python3.11/site-packages (from ipython>=7.23.1->ipykernel) (4.9.0)\n",
      "Requirement already satisfied: prompt_toolkit<3.1.0,>=3.0.41 in ./myenv/lib/python3.11/site-packages (from ipython>=7.23.1->ipykernel) (3.0.48)\n",
      "Requirement already satisfied: pygments>=2.4.0 in ./myenv/lib/python3.11/site-packages (from ipython>=7.23.1->ipykernel) (2.18.0)\n",
      "Requirement already satisfied: stack_data in ./myenv/lib/python3.11/site-packages (from ipython>=7.23.1->ipykernel) (0.6.3)\n",
      "Requirement already satisfied: typing_extensions>=4.6 in ./myenv/lib/python3.11/site-packages (from ipython>=7.23.1->ipykernel) (4.12.2)\n",
      "Requirement already satisfied: python-dateutil>=2.8.2 in ./myenv/lib/python3.11/site-packages (from jupyter-client>=6.1.12->ipykernel) (2.9.0.post0)\n",
      "Requirement already satisfied: platformdirs>=2.5 in ./myenv/lib/python3.11/site-packages (from jupyter-core!=5.0.*,>=4.12->ipykernel) (4.3.6)\n",
      "Requirement already satisfied: parso<0.9.0,>=0.8.4 in ./myenv/lib/python3.11/site-packages (from jedi>=0.16->ipython>=7.23.1->ipykernel) (0.8.4)\n",
      "Requirement already satisfied: ptyprocess>=0.5 in ./myenv/lib/python3.11/site-packages (from pexpect>4.3->ipython>=7.23.1->ipykernel) (0.7.0)\n",
      "Requirement already satisfied: wcwidth in ./myenv/lib/python3.11/site-packages (from prompt_toolkit<3.1.0,>=3.0.41->ipython>=7.23.1->ipykernel) (0.2.13)\n",
      "Requirement already satisfied: six>=1.5 in ./myenv/lib/python3.11/site-packages (from python-dateutil>=2.8.2->jupyter-client>=6.1.12->ipykernel) (1.17.0)\n",
      "Requirement already satisfied: executing>=1.2.0 in ./myenv/lib/python3.11/site-packages (from stack_data->ipython>=7.23.1->ipykernel) (2.1.0)\n",
      "Requirement already satisfied: asttokens>=2.1.0 in ./myenv/lib/python3.11/site-packages (from stack_data->ipython>=7.23.1->ipykernel) (3.0.0)\n",
      "Requirement already satisfied: pure-eval in ./myenv/lib/python3.11/site-packages (from stack_data->ipython>=7.23.1->ipykernel) (0.2.3)\n"
     ]
    }
   ],
   "source": [
    "!pip install ipykernel ipywidgets"
   ]
  },
  {
   "cell_type": "code",
   "execution_count": 1,
   "metadata": {},
   "outputs": [
    {
     "name": "stdout",
     "output_type": "stream",
     "text": [
      "File '/usr/share/keyrings/docker-archive-keyring.gpg' exists. \u001b[?2004hOverwrite? (y/N) "
     ]
    },
    {
     "name": "stdout",
     "output_type": "stream",
     "text": [
      "\n",
      "gpg: signal Interrupt caught ... exiting\n",
      "Get:1 file:/etc/apt/mirrors/debian.list Mirrorlist [30 B]\n",
      "Get:2 file:/etc/apt/mirrors/debian-security.list Mirrorlist [39 B]             \n",
      "Hit:7 https://packages.cloud.google.com/apt google-compute-engine-bookworm-stable InRelease\n",
      "Hit:8 https://download.docker.com/linux/debian bookworm InRelease              \n",
      "Hit:9 https://packages.cloud.google.com/apt cloud-sdk-bookworm InRelease     \n",
      "Hit:3 https://deb.debian.org/debian bookworm InRelease\n",
      "Hit:4 https://deb.debian.org/debian bookworm-updates InRelease\n",
      "Hit:5 https://deb.debian.org/debian bookworm-backports InRelease\n",
      "Hit:6 https://deb.debian.org/debian-security bookworm-security InRelease\n",
      "Reading package lists... Done\n",
      "Reading package lists... Done\n",
      "Building dependency tree... Done\n",
      "Reading state information... Done\n",
      "docker-ce is already the newest version (5:27.4.0-1~debian.12~bookworm).\n",
      "docker-ce-cli is already the newest version (5:27.4.0-1~debian.12~bookworm).\n",
      "containerd.io is already the newest version (1.7.24-1).\n",
      "0 upgraded, 0 newly installed, 0 to remove and 3 not upgraded.\n"
     ]
    }
   ],
   "source": [
    "!curl -fsSL https://download.docker.com/linux/debian/gpg | sudo gpg --dearmor -o /usr/share/keyrings/docker-archive-keyring.gpg\n",
    "!echo \"deb [arch=amd64 signed-by=/usr/share/keyrings/docker-archive-keyring.gpg] https://download.docker.com/linux/debian bookworm stable\" | sudo tee /etc/apt/sources.list.d/docker.list > /dev/null\n",
    "\n",
    "!sudo apt-get update\n",
    "!sudo apt-get install docker-ce docker-ce-cli containerd.io"
   ]
  },
  {
   "cell_type": "code",
   "execution_count": 2,
   "metadata": {},
   "outputs": [
    {
     "name": "stdout",
     "output_type": "stream",
     "text": [
      "\n",
      "Hello from Docker!\n",
      "This message shows that your installation appears to be working correctly.\n",
      "\n",
      "To generate this message, Docker took the following steps:\n",
      " 1. The Docker client contacted the Docker daemon.\n",
      " 2. The Docker daemon pulled the \"hello-world\" image from the Docker Hub.\n",
      "    (amd64)\n",
      " 3. The Docker daemon created a new container from that image which runs the\n",
      "    executable that produces the output you are currently reading.\n",
      " 4. The Docker daemon streamed that output to the Docker client, which sent it\n",
      "    to your terminal.\n",
      "\n",
      "To try something more ambitious, you can run an Ubuntu container with:\n",
      " $ docker run -it ubuntu bash\n",
      "\n",
      "Share images, automate workflows, and more with a free Docker ID:\n",
      " https://hub.docker.com/\n",
      "\n",
      "For more examples and ideas, visit:\n",
      " https://docs.docker.com/get-started/\n",
      "\n",
      " Total Memory: 15.63GiB\n",
      "WARNING: bridge-nf-call-iptables is disabled\n",
      "WARNING: bridge-nf-call-ip6tables is disabled\n"
     ]
    }
   ],
   "source": [
    "!sudo docker run hello-world\n",
    "!sudo docker info | grep \"Total Memory\""
   ]
  },
  {
   "cell_type": "code",
   "execution_count": null,
   "metadata": {},
   "outputs": [],
   "source": [
    "# /bin/bash -c \"$(curl -fsSL https://raw.githubusercontent.com/Homebrew/install/HEAD/install.sh)\n",
    "# test -d ~/.linuxbrew && eval \"$(~/.linuxbrew/bin/brew shellenv)\"\n",
    "# test -d /home/linuxbrew/.linuxbrew && eval \"$(/home/linuxbrew/.linuxbrew/bin/brew shellenv\"\n",
    "# echo \"eval \\\"\\$($(brew --prefix)/bin/brew shellenv)\\\"\" >> ~/.bashrc\n",
    "# brew install hello\n",
    "# brew install vespa-cli\n",
    "# export VESPA_CLI_HOME=/tmp\n",
    "# vespa config set target local"
   ]
  },
  {
   "cell_type": "markdown",
   "metadata": {},
   "source": [
    "If previously ran the vespa docker, stop and remove it:\n",
    "\n",
    "`sudo docker stop vespa`\n",
    "\n",
    "`sudo docker rm vespa`\n"
   ]
  },
  {
   "cell_type": "code",
   "execution_count": 4,
   "metadata": {},
   "outputs": [
    {
     "name": "stdout",
     "output_type": "stream",
     "text": [
      "a117203e8a7eeb3d5bf497f2a797fdebb861df869f4ddb76a038e0c633f0a572\n"
     ]
    }
   ],
   "source": [
    "!sudo docker run --detach --name vespa --hostname vespa-container    --publish 8080:8080 --publish 19071:19071 vespaengine/vespa"
   ]
  },
  {
   "cell_type": "code",
   "execution_count": 6,
   "metadata": {},
   "outputs": [
    {
     "name": "stdout",
     "output_type": "stream",
     "text": [
      "<title>OK</title>\n"
     ]
    }
   ],
   "source": [
    "# Verify that the Vespa deploy API is accessible:\n",
    "\n",
    "\n",
    "!curl http://127.0.0.1:19071/status.html\n"
   ]
  },
  {
   "cell_type": "code",
   "execution_count": 12,
   "metadata": {},
   "outputs": [],
   "source": [
    "# To add the vespa to the jupyter\n",
    "import os\n",
    "os.environ[\"PATH\"] += os.pathsep + \"/home/linuxbrew/.linuxbrew/bin\"\n"
   ]
  },
  {
   "cell_type": "code",
   "execution_count": 16,
   "metadata": {},
   "outputs": [
    {
     "name": "stdout",
     "output_type": "stream",
     "text": [
      "\u001b[33mDownloading sample apps ...\u001b[0m \u001b[34;1m⣻\u001b[0;22m"
     ]
    },
    {
     "name": "stdout",
     "output_type": "stream",
     "text": [
      "\u001b[33mDownloading sample apps ...\u001b[0m done\n",
      "\u001b[33mUsing cached sample apps ...\u001b[0m\n",
      "Cloned into \u001b[36mmyapp\u001b[0m\n"
     ]
    }
   ],
   "source": [
    "!vespa clone album-recommendation myapp && cd myapp\n"
   ]
  },
  {
   "cell_type": "code",
   "execution_count": 18,
   "metadata": {},
   "outputs": [
    {
     "name": "stdout",
     "output_type": "stream",
     "text": [
      "Waiting up to \u001b[36m5m0s\u001b[0m for deploy API...\n",
      "Uploading application package... \u001b[34;1m⣽\u001b[0;22m"
     ]
    },
    {
     "name": "stdout",
     "output_type": "stream",
     "text": [
      "Uploading application package... done;1m⣯\u001b[0;22m\n",
      "\n",
      "\u001b[32mSuccess:\u001b[0m Deployed \u001b[36m'.'\u001b[0m with session ID \u001b[36m2\u001b[0m\n",
      "Waiting up to \u001b[36m5m0s\u001b[0m for deployment to converge...\n",
      "Waiting up to \u001b[36m5m0s\u001b[0m for cluster discovery...\n",
      "Waiting up to \u001b[36m5m0s\u001b[0m for container default...\n"
     ]
    }
   ],
   "source": [
    "os.chdir(\"./myapp\")\n",
    "!vespa deploy --wait 300"
   ]
  },
  {
   "cell_type": "code",
   "execution_count": 19,
   "metadata": {},
   "outputs": [
    {
     "name": "stdout",
     "output_type": "stream",
     "text": [
      "{\n",
      "  \"feeder.operation.count\": 5,\n",
      "  \"feeder.seconds\": 0.420,\n",
      "  \"feeder.ok.count\": 5,\n",
      "  \"feeder.ok.rate\": 5.000,\n",
      "  \"feeder.error.count\": 0,\n",
      "  \"feeder.inflight.count\": 0,\n",
      "  \"http.request.count\": 5,\n",
      "  \"http.request.bytes\": 724,\n",
      "  \"http.request.MBps\": 0.001,\n",
      "  \"http.exception.count\": 0,\n",
      "  \"http.response.count\": 5,\n",
      "  \"http.response.bytes\": 658,\n",
      "  \"http.response.MBps\": 0.001,\n",
      "  \"http.response.error.count\": 0,\n",
      "  \"http.response.latency.millis.min\": 416,\n",
      "  \"http.response.latency.millis.avg\": 416,\n",
      "  \"http.response.latency.millis.max\": 416,\n",
      "  \"http.response.code.counts\": {\n",
      "    \"200\": 5\n",
      "  }\n",
      "}\n"
     ]
    }
   ],
   "source": [
    "!vespa feed ext/documents.jsonl"
   ]
  },
  {
   "cell_type": "code",
   "execution_count": 20,
   "metadata": {},
   "outputs": [
    {
     "name": "stdout",
     "output_type": "stream",
     "text": [
      "{\n",
      "    \"root\": {\n",
      "        \"id\": \"toplevel\",\n",
      "        \"relevance\": 1.0,\n",
      "        \"fields\": {\n",
      "            \"totalCount\": 1\n",
      "        },\n",
      "        \"coverage\": {\n",
      "            \"coverage\": 100,\n",
      "            \"documents\": 5,\n",
      "            \"full\": true,\n",
      "            \"nodes\": 1,\n",
      "            \"results\": 1,\n",
      "            \"resultsFull\": 1\n",
      "        },\n",
      "        \"children\": [\n",
      "            {\n",
      "                \"id\": \"id:mynamespace:music::a-head-full-of-dreams\",\n",
      "                \"relevance\": 0.16343879032006287,\n",
      "                \"source\": \"music\",\n",
      "                \"fields\": {\n",
      "                    \"sddocname\": \"music\",\n",
      "                    \"documentid\": \"id:mynamespace:music::a-head-full-of-dreams\",\n",
      "                    \"artist\": \"Coldplay\",\n",
      "                    \"album\": \"A Head Full of Dreams\",\n",
      "                    \"year\": 2015,\n",
      "                    \"category_scores\": {\n",
      "                        \"type\": \"tensor<float>(cat{})\",\n",
      "                        \"cells\": {\n",
      "                            \"pop\": 1.0,\n",
      "                            \"rock\": 0.20000000298023224,\n",
      "                            \"jazz\": 0.0\n",
      "                        }\n",
      "                    }\n",
      "                }\n",
      "            }\n",
      "        ]\n",
      "    }\n",
      "}\n"
     ]
    }
   ],
   "source": [
    "!vespa query \"select * from music where album contains 'head'\" language=en-US"
   ]
  },
  {
   "cell_type": "code",
   "execution_count": 21,
   "metadata": {},
   "outputs": [
    {
     "name": "stdout",
     "output_type": "stream",
     "text": [
      "{\n",
      "    \"root\": {\n",
      "        \"id\": \"toplevel\",\n",
      "        \"relevance\": 1.0,\n",
      "        \"fields\": {\n",
      "            \"totalCount\": 5\n",
      "        },\n",
      "        \"coverage\": {\n",
      "            \"coverage\": 100,\n",
      "            \"documents\": 5,\n",
      "            \"full\": true,\n",
      "            \"nodes\": 1,\n",
      "            \"results\": 1,\n",
      "            \"resultsFull\": 1\n",
      "        },\n",
      "        \"children\": [\n",
      "            {\n",
      "                \"id\": \"id:mynamespace:music::a-head-full-of-dreams\",\n",
      "                \"relevance\": 0.2100000036880374,\n",
      "                \"source\": \"music\",\n",
      "                \"fields\": {\n",
      "                    \"sddocname\": \"music\",\n",
      "                    \"documentid\": \"id:mynamespace:music::a-head-full-of-dreams\",\n",
      "                    \"artist\": \"Coldplay\",\n",
      "                    \"album\": \"A Head Full of Dreams\",\n",
      "                    \"year\": 2015,\n",
      "                    \"category_scores\": {\n",
      "                        \"type\": \"tensor<float>(cat{})\",\n",
      "                        \"cells\": {\n",
      "                            \"pop\": 1.0,\n",
      "                            \"rock\": 0.20000000298023224,\n",
      "                            \"jazz\": 0.0\n",
      "                        }\n",
      "                    }\n",
      "                }\n",
      "            },\n",
      "            {\n",
      "                \"id\": \"id:mynamespace:music::when-we-all-fall-asleep-where-do-we-go\",\n",
      "                \"relevance\": 0.20250000315718353,\n",
      "                \"source\": \"music\",\n",
      "                \"fields\": {\n",
      "                    \"sddocname\": \"music\",\n",
      "                    \"documentid\": \"id:mynamespace:music::when-we-all-fall-asleep-where-do-we-go\",\n",
      "                    \"artist\": \"Billie Eilish\",\n",
      "                    \"album\": \"When We All Fall Asleep, Where Do We Go?\",\n",
      "                    \"year\": 2019,\n",
      "                    \"category_scores\": {\n",
      "                        \"type\": \"tensor<float>(cat{})\",\n",
      "                        \"cells\": {\n",
      "                            \"pop\": 1.0,\n",
      "                            \"rock\": 0.0,\n",
      "                            \"jazz\": 0.10000000149011612\n",
      "                        }\n",
      "                    }\n",
      "                }\n",
      "            },\n",
      "            {\n",
      "                \"id\": \"id:mynamespace:music::love-is-here-to-stay\",\n",
      "                \"relevance\": 0.10000000707805157,\n",
      "                \"source\": \"music\",\n",
      "                \"fields\": {\n",
      "                    \"sddocname\": \"music\",\n",
      "                    \"documentid\": \"id:mynamespace:music::love-is-here-to-stay\",\n",
      "                    \"artist\": \"Diana Krall\",\n",
      "                    \"album\": \"Love Is Here To Stay\",\n",
      "                    \"year\": 2018,\n",
      "                    \"category_scores\": {\n",
      "                        \"type\": \"tensor<float>(cat{})\",\n",
      "                        \"cells\": {\n",
      "                            \"pop\": 0.4000000059604645,\n",
      "                            \"rock\": 0.0,\n",
      "                            \"jazz\": 0.800000011920929\n",
      "                        }\n",
      "                    }\n",
      "                }\n",
      "            },\n",
      "            {\n",
      "                \"id\": \"id:mynamespace:music::liebe-ist-für-alle-da\",\n",
      "                \"relevance\": 0.07000000216066837,\n",
      "                \"source\": \"music\",\n",
      "                \"fields\": {\n",
      "                    \"sddocname\": \"music\",\n",
      "                    \"documentid\": \"id:mynamespace:music::liebe-ist-für-alle-da\",\n",
      "                    \"artist\": \"Rammstein\",\n",
      "                    \"album\": \"Liebe ist für alle da\",\n",
      "                    \"year\": 2009,\n",
      "                    \"category_scores\": {\n",
      "                        \"type\": \"tensor<float>(cat{})\",\n",
      "                        \"cells\": {\n",
      "                            \"pop\": 0.10000000149011612,\n",
      "                            \"rock\": 1.0,\n",
      "                            \"jazz\": 0.0\n",
      "                        }\n",
      "                    }\n",
      "                }\n",
      "            },\n",
      "            {\n",
      "                \"id\": \"id:mynamespace:music::hardwired-to-self-destruct\",\n",
      "                \"relevance\": 0.05000000074505806,\n",
      "                \"source\": \"music\",\n",
      "                \"fields\": {\n",
      "                    \"sddocname\": \"music\",\n",
      "                    \"documentid\": \"id:mynamespace:music::hardwired-to-self-destruct\",\n",
      "                    \"artist\": \"Metallica\",\n",
      "                    \"album\": \"Hardwired...To Self-Destruct\",\n",
      "                    \"year\": 2016,\n",
      "                    \"category_scores\": {\n",
      "                        \"type\": \"tensor<float>(cat{})\",\n",
      "                        \"cells\": {\n",
      "                            \"pop\": 0.0,\n",
      "                            \"rock\": 1.0,\n",
      "                            \"jazz\": 0.0\n",
      "                        }\n",
      "                    }\n",
      "                }\n",
      "            }\n",
      "        ]\n",
      "    }\n",
      "}\n"
     ]
    }
   ],
   "source": [
    "!vespa query \"select * from music where true\" \\\n",
    "     \"ranking=rank_albums\" \\\n",
    "     \"input.query(user_profile)={pop:0.8,rock:0.2,jazz:0.1}\""
   ]
  },
  {
   "cell_type": "code",
   "execution_count": 23,
   "metadata": {},
   "outputs": [
    {
     "name": "stdout",
     "output_type": "stream",
     "text": [
      "{\n",
      "    \"root\": {\n",
      "        \"id\": \"toplevel\",\n",
      "        \"relevance\": 1.0,\n",
      "        \"fields\": {\n",
      "            \"totalCount\": 5\n",
      "        },\n",
      "        \"coverage\": {\n",
      "            \"coverage\": 100,\n",
      "            \"documents\": 5,\n",
      "            \"full\": true,\n",
      "            \"nodes\": 1,\n",
      "            \"results\": 1,\n",
      "            \"resultsFull\": 1\n",
      "        },\n",
      "        \"children\": [\n",
      "            {\n",
      "                \"id\": \"id:mynamespace:music::a-head-full-of-dreams\",\n",
      "                \"relevance\": 0.2100000036880374,\n",
      "                \"source\": \"music\",\n",
      "                \"fields\": {\n",
      "                    \"sddocname\": \"music\",\n",
      "                    \"documentid\": \"id:mynamespace:music::a-head-full-of-dreams\",\n",
      "                    \"artist\": \"Coldplay\",\n",
      "                    \"album\": \"A Head Full of Dreams\",\n",
      "                    \"year\": 2015,\n",
      "                    \"category_scores\": {\n",
      "                        \"pop\": 1.0,\n",
      "                        \"rock\": 0.20000000298023224,\n",
      "                        \"jazz\": 0.0\n",
      "                    }\n",
      "                }\n",
      "            },\n",
      "            {\n",
      "                \"id\": \"id:mynamespace:music::when-we-all-fall-asleep-where-do-we-go\",\n",
      "                \"relevance\": 0.20250000315718353,\n",
      "                \"source\": \"music\",\n",
      "                \"fields\": {\n",
      "                    \"sddocname\": \"music\",\n",
      "                    \"documentid\": \"id:mynamespace:music::when-we-all-fall-asleep-where-do-we-go\",\n",
      "                    \"artist\": \"Billie Eilish\",\n",
      "                    \"album\": \"When We All Fall Asleep, Where Do We Go?\",\n",
      "                    \"year\": 2019,\n",
      "                    \"category_scores\": {\n",
      "                        \"pop\": 1.0,\n",
      "                        \"rock\": 0.0,\n",
      "                        \"jazz\": 0.10000000149011612\n",
      "                    }\n",
      "                }\n",
      "            },\n",
      "            {\n",
      "                \"id\": \"id:mynamespace:music::love-is-here-to-stay\",\n",
      "                \"relevance\": 0.10000000707805157,\n",
      "                \"source\": \"music\",\n",
      "                \"fields\": {\n",
      "                    \"sddocname\": \"music\",\n",
      "                    \"documentid\": \"id:mynamespace:music::love-is-here-to-stay\",\n",
      "                    \"artist\": \"Diana Krall\",\n",
      "                    \"album\": \"Love Is Here To Stay\",\n",
      "                    \"year\": 2018,\n",
      "                    \"category_scores\": {\n",
      "                        \"pop\": 0.4000000059604645,\n",
      "                        \"rock\": 0.0,\n",
      "                        \"jazz\": 0.800000011920929\n",
      "                    }\n",
      "                }\n",
      "            },\n",
      "            {\n",
      "                \"id\": \"id:mynamespace:music::liebe-ist-für-alle-da\",\n",
      "                \"relevance\": 0.07000000216066837,\n",
      "                \"source\": \"music\",\n",
      "                \"fields\": {\n",
      "                    \"sddocname\": \"music\",\n",
      "                    \"documentid\": \"id:mynamespace:music::liebe-ist-für-alle-da\",\n",
      "                    \"artist\": \"Rammstein\",\n",
      "                    \"album\": \"Liebe ist für alle da\",\n",
      "                    \"year\": 2009,\n",
      "                    \"category_scores\": {\n",
      "                        \"pop\": 0.10000000149011612,\n",
      "                        \"rock\": 1.0,\n",
      "                        \"jazz\": 0.0\n",
      "                    }\n",
      "                }\n",
      "            },\n",
      "            {\n",
      "                \"id\": \"id:mynamespace:music::hardwired-to-self-destruct\",\n",
      "                \"relevance\": 0.05000000074505806,\n",
      "                \"source\": \"music\",\n",
      "                \"fields\": {\n",
      "                    \"sddocname\": \"music\",\n",
      "                    \"documentid\": \"id:mynamespace:music::hardwired-to-self-destruct\",\n",
      "                    \"artist\": \"Metallica\",\n",
      "                    \"album\": \"Hardwired...To Self-Destruct\",\n",
      "                    \"year\": 2016,\n",
      "                    \"category_scores\": {\n",
      "                        \"pop\": 0.0,\n",
      "                        \"rock\": 1.0,\n",
      "                        \"jazz\": 0.0\n",
      "                    }\n",
      "                }\n",
      "            }\n",
      "        ]\n",
      "    }\n",
      "}\n"
     ]
    }
   ],
   "source": [
    "!vespa query \"select * from music where true\" \\\n",
    "     \"ranking=rank_albums\" \\\n",
    "     \"input.query(user_profile)={pop:0.8,rock:0.2,jazz:0.1}\" \\\n",
    "     \"presentation.format.tensors=short-value\""
   ]
  },
  {
   "cell_type": "code",
   "execution_count": 24,
   "metadata": {},
   "outputs": [
    {
     "name": "stdout",
     "output_type": "stream",
     "text": [
      "{\n",
      "    \"pathId\": \"/document/v1/mynamespace/music/docid/a-head-full-of-dreams\",\n",
      "    \"id\": \"id:mynamespace:music::a-head-full-of-dreams\",\n",
      "    \"fields\": {\n",
      "        \"artist\": \"Coldplay\",\n",
      "        \"year\": 2015,\n",
      "        \"category_scores\": {\n",
      "            \"type\": \"tensor<float>(cat{})\",\n",
      "            \"cells\": {\n",
      "                \"pop\": 1.0,\n",
      "                \"rock\": 0.20000000298023224,\n",
      "                \"jazz\": 0.0\n",
      "            }\n",
      "        },\n",
      "        \"album\": \"A Head Full of Dreams\"\n",
      "    }\n",
      "}\n"
     ]
    }
   ],
   "source": [
    "!vespa document get id:mynamespace:music::a-head-full-of-dreams"
   ]
  },
  {
   "cell_type": "code",
   "execution_count": 25,
   "metadata": {},
   "outputs": [
    {
     "name": "stdout",
     "output_type": "stream",
     "text": [
      "{\"id\":\"id:mynamespace:music::when-we-all-fall-asleep-where-do-we-go\",\"fields\":{\"artist\":\"Billie Eilish\",\"year\":2019,\"category_scores\":{\"type\":\"tensor<float>(cat{})\",\"cells\":{\"pop\":1.0,\"rock\":0.0,\"jazz\":0.10000000149011612}},\"album\":\"When We All Fall Asleep, Where Do We Go?\"}}\n",
      "{\"id\":\"id:mynamespace:music::liebe-ist-für-alle-da\",\"fields\":{\"artist\":\"Rammstein\",\"year\":2009,\"category_scores\":{\"type\":\"tensor<float>(cat{})\",\"cells\":{\"pop\":0.10000000149011612,\"rock\":1.0,\"jazz\":0.0}},\"album\":\"Liebe ist für alle da\"}}\n",
      "{\"id\":\"id:mynamespace:music::love-is-here-to-stay\",\"fields\":{\"artist\":\"Diana Krall\",\"year\":2018,\"category_scores\":{\"type\":\"tensor<float>(cat{})\",\"cells\":{\"pop\":0.4000000059604645,\"rock\":0.0,\"jazz\":0.800000011920929}},\"album\":\"Love Is Here To Stay\"}}\n",
      "{\"id\":\"id:mynamespace:music::a-head-full-of-dreams\",\"fields\":{\"artist\":\"Coldplay\",\"year\":2015,\"category_scores\":{\"type\":\"tensor<float>(cat{})\",\"cells\":{\"pop\":1.0,\"rock\":0.20000000298023224,\"jazz\":0.0}},\"album\":\"A Head Full of Dreams\"}}\n",
      "{\"id\":\"id:mynamespace:music::hardwired-to-self-destruct\",\"fields\":{\"artist\":\"Metallica\",\"year\":2016,\"category_scores\":{\"type\":\"tensor<float>(cat{})\",\"cells\":{\"pop\":0.0,\"rock\":1.0,\"jazz\":0.0}},\"album\":\"Hardwired...To Self-Destruct\"}}\n"
     ]
    }
   ],
   "source": [
    "!vespa visit"
   ]
  },
  {
   "cell_type": "code",
   "execution_count": null,
   "metadata": {},
   "outputs": [],
   "source": []
  }
 ],
 "metadata": {
  "kernelspec": {
   "display_name": "Python 3",
   "language": "python",
   "name": "python3"
  },
  "language_info": {
   "codemirror_mode": {
    "name": "ipython",
    "version": 3
   },
   "file_extension": ".py",
   "mimetype": "text/x-python",
   "name": "python",
   "nbconvert_exporter": "python",
   "pygments_lexer": "ipython3",
   "version": "3.11.2"
  }
 },
 "nbformat": 4,
 "nbformat_minor": 2
}
